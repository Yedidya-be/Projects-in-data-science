{
 "cells": [
  {
   "cell_type": "markdown",
   "id": "7f7b2101",
   "metadata": {},
   "source": [
    "# Project in Data Sciences Course\n",
    "\n",
    "Welcome to the \"Project in Data Sciences\" course! In this course, we will be working with par-seqFISH data in raw format to explore various aspects of data analysis and visualization using Python. The main goal of this course is to gain practical skills in analyzing and interpreting biological data to gain insights into gene expression levels and dynamics.\n",
    "\n",
    "The course is divided into three parts:\n",
    "### Part 1: Working with Images\n",
    "\n",
    "In the first part of the course, we will learn how to handle and process images, specifically using the par-seqFISH data in the nd2 format. We will explore techniques for image manipulation, visualization, and analysis using Python libraries such as Napari, NumPy, and OpenCV.\n",
    "\n",
    "### Part 2: Objects and Segmentation\n",
    "\n",
    "In the second part of the course, we will delve into the concept of objects and segmentation in images. We will learn how to identify and extract objects of interest from the par-seqFISH images, and perform basic image segmentation techniques to separate cells into different conditions. We will also explore techniques for measuring various cellular properties such as size, DAPI, and rRNA distributions using image analysis.\n",
    "\n",
    "### Part 3: Final Project\n",
    "\n",
    "In the final part of the course, we will bring together the skills and knowledge gained from the previous parts to work on a final project. This project will involve analyzing gene expression levels and their dynamics in the par-seqFISH data, and applying various data analysis and visualization techniques to gain meaningful insights.\n"
   ]
  },
  {
   "cell_type": "markdown",
   "id": "1d989105",
   "metadata": {},
   "source": [
    "# Lesson 1 - Introduction to Images and Working with them in Python\n",
    "\n",
    "Welcome! In this notebook, we will go through some basic image processing in Python and familiarize ourselves with different utilities that can be useful for any computer vision pipeline, utilities provides through libraries like numpy, napari, skimage, glob, tqdm and more."
   ]
  },
  {
   "cell_type": "markdown",
   "id": "39877633",
   "metadata": {},
   "source": [
    "### Working with Conda Environment and Installing libraries\n",
    "\n",
    "To ensure a clean and isolated working environment, we will be using Conda, a popular package management system and environment manager for Python. Conda allows us to create and manage virtual environments with specific dependencies for our project, which can help avoid conflicts between different packages and ensure reproducibility.\n",
    "\n",
    "Here are the steps to open a Conda environment:\n",
    "\n",
    "1. Open Anaconda or Miniconda: If you have Anaconda or Miniconda installed on your machine, open the Anaconda Navigator or the Conda command prompt, respectively.\n",
    "\n",
    "2. Create a New Conda Environment: In the Conda command prompt, run the following command to create a new environment with a specific Python version:\n",
    "\n",
    "`conda create -n my_env python=3.8`\n",
    "\n",
    "Replace \"my_env\" with the name you want to give to your environment, and \"python=3.8\" with the desired Python version.\n",
    "\n",
    "3. In the Conda command prompt, run the following command to activate the environment:\n",
    "\n",
    "`conda activate my_env`\n",
    "\n",
    "4. Install libraries: With the Conda environment activated, we can now install the required packages. In the Conda command prompt, run the following commands to install NumPy, Napari, plt, and nd2:\n",
    "\n",
    "`conda install numpy`\n",
    "\n",
    "`conda install -c conda-forge napari`\n",
    "\n",
    "`conda install matplotlib`\n",
    "\n",
    "`pip install nd2`\n",
    "\n",
    "5. Verify the Installation: To verify that NumPy and Napari are successfully installed, you can run the following Python code in your Jupyter notebook:\n",
    "\n",
    "```python\n",
    "import numpy as np\n",
    "import napari\n",
    "import nd2\n",
    "import matplotlib\n",
    "```\n",
    "If there are no errors, you are all set to start working with images using NumPy and Napari in your Conda environment!\n",
    "\n",
    "With NumPy and Napari installed, you now have the necessary tools to manipulate and analyze par-seqFISH images in Python. Let's move forward and explore the exciting world of image analysis and visualization in the next sections!"
   ]
  },
  {
   "cell_type": "markdown",
   "id": "093f39fd",
   "metadata": {},
   "source": [
    "### Images as arrays \n",
    "\n",
    "Images are represented as numpy arrays of shape (height, width, channels).\n",
    "\n",
    "![RGB image as a numpy array](asserts/image_as_array.png)\n",
    "\n",
    "<div style=\"text-align: right\"> Credit: <a href=\"https://e2eml.school/convert_rgb_to_grayscale.html\">Brandon Rohrer’s Blog</a></div>\n",
    "\n",
    "\n",
    "Multiple utilities/packages exist to read images from files in Python,\n",
    "we will use `nd2.ND2File`.\n",
    "\n",
    "\n",
    "If you look in the directory containing this notebook, you will find a folder called data which includes some nd2 files. \n",
    "\n",
    "Let's load one image."
   ]
  },
  {
   "cell_type": "code",
   "execution_count": 11,
   "id": "f4150190",
   "metadata": {},
   "outputs": [],
   "source": [
    "import nd2\n",
    "\n",
    "path=r'data/Count00000_Point0000_ChannelPHASE 60x-100x PH3,DAPI,A488,A555,A647_Seq0000.nd2'\n",
    "img = nd2.ND2File(path)"
   ]
  },
  {
   "cell_type": "markdown",
   "id": "584e5d8b",
   "metadata": {},
   "source": [
    "### Extracting Image Data and Metadata\n",
    "\n",
    "Now that we have loaded the image using the \"nd2\" library, we can extract the image data and metadata from the \"img\" object. \n",
    "\n",
    "**Image Data Extraction:**\n",
    "\n",
    "To extract the image data as a NumPy array, we can use the \"asarray()\" method provided by the \"nd2\" library. The extracted image data will be a 3D NumPy array, where the first dimension represents the channel, and the second and third dimensions represent the row and column indices, respectively. Here's an example:\n",
    "\n",
    "```python\n",
    "# Extract the image data as a NumPy array\n",
    "image = img.asarray()\n",
    "```\n",
    "The resulting \"image\" variable will contain the image data as a NumPy array, which can be further processed and analyzed using various NumPy and image processing functions.\n",
    "\n",
    "**Metadata Extraction:**\n",
    "\n",
    "The \"nd2\" library also provides access to the metadata associated with the image, which contains information about the acquisition settings, microscope parameters, and other relevant information. To extract the metadata, we can simply access the \"metadata\" attribute of the \"img\" object, like this:\n",
    "\n",
    "```python\n",
    "# Extract the metadata from the img object\n",
    "metadata = img.metadata\n",
    "```\n",
    "\n"
   ]
  },
  {
   "cell_type": "code",
   "execution_count": null,
   "id": "c2aa584d",
   "metadata": {},
   "outputs": [],
   "source": [
    "# Extract the image data as a NumPy array\n",
    "\n",
    "# Your answer #"
   ]
  },
  {
   "cell_type": "markdown",
   "id": "6004ce5f",
   "metadata": {},
   "source": [
    "### Uploading an Image and Exploring Image Properties\n",
    "\n",
    "Now that we have imported the `nd2` package and loaded an image from the provided path, let's explore some properties of the image.\n",
    "\n",
    "1. **Image Shape:** To find out the shape of the image, you can simply print the `shape` attribute of the `img` object, like this:\n",
    "\n",
    "    ```python\n",
    "    print(\"Image Shape:\", img.shape)\n",
    "    ```\n",
    "\n",
    "\n",
    "\n"
   ]
  },
  {
   "cell_type": "code",
   "execution_count": 15,
   "id": "d71da088",
   "metadata": {},
   "outputs": [],
   "source": [
    "#What is the shape of the image? (e.g., (height, width, channels))\n",
    "\n",
    "# Your answer #"
   ]
  },
  {
   "cell_type": "markdown",
   "id": "f2113a6f",
   "metadata": {},
   "source": [
    "2. **Channel Ranges:** Next, let's determine the range of intensity values for each channel in the image. You can use the `min()` and `max()` functions along with the `channels` attribute of the `img` object to obtain the minimum and maximum intensity values for each channel, like this:\n",
    "\n",
    "    ```python\n",
    "    for channel in img.channels:\n",
    "        print(\"Channel\", channel, \"Range: min =\", img[channel].min(), \", max =\", img[channel].max())\n",
    "    ```\n",
    "\n",
    "\n",
    "\n"
   ]
  },
  {
   "cell_type": "code",
   "execution_count": 16,
   "id": "362c56a1",
   "metadata": {},
   "outputs": [],
   "source": [
    "#What is the range of intensity values for each channel in the image? (e.g., Channel 1 Range: min = 0, max = 255)\n",
    "\n",
    "# Your answer #"
   ]
  },
  {
   "cell_type": "markdown",
   "id": "5d894dd8",
   "metadata": {},
   "source": [
    "\n",
    "3. **Metadata Extraction:** Image metadata can provide valuable information about the acquisition settings, microscope parameters, and other experimental details. You can extract the metadata from the `img` object using the `metadata` attribute, like this:\n",
    "\n",
    "    ```python\n",
    "    image_metadata = img.metadata\n",
    "    ```\n",
    "\n",
    "    Please answer the following question: What information can you gather from the extracted metadata? (e.g., acquisition date and time, microscope model, objective lens used)\n",
    "\n",
    "Take a moment to explore the uploaded image and answer the questions above. Understanding the properties and metadata of the image will help us in further analysis and interpretation of the data. Feel free to refer to the `nd2` documentation for more details on working with ND2 images.\n"
   ]
  },
  {
   "cell_type": "code",
   "execution_count": 18,
   "id": "10d99236",
   "metadata": {},
   "outputs": [],
   "source": [
    "#What information can you gather from the extracted metadata? (e.g., acquisition date and time, microscope model, objective lens used)\n",
    "\n",
    "# Your answer #"
   ]
  },
  {
   "cell_type": "markdown",
   "id": "ef48babd",
   "metadata": {},
   "source": [
    "### Displaying Image using Matplotlib\n",
    "\n",
    "In addition to exploring the image properties, we can also visualize the image using the Matplotlib library. Matplotlib provides various functions to display images, such as `imshow()`.\n",
    "\n",
    "To display the loaded image, you can use the following code:\n",
    "\n",
    "```python\n",
    "import matplotlib.pyplot as plt\n",
    "\n",
    "# Display the first channel of the image\n",
    "channel = img.channels[0] # Choose a channel to display\n",
    "plt.imshow(img[channel], cmap='gray')\n",
    "plt.title('Image Channel: ' + channel)\n",
    "plt.colorbar()\n",
    "plt.show()\n",
    "```\n",
    "This code snippet uses `imshow()` function to display the image data from a selected channel using a grayscale colormap. The `title()` function sets the title of the plot, and `colorbar()` function adds a colorbar to the plot for intensity scale.\n",
    "\n",
    "You can also customize the display properties such as `colormap`, `colorbar`, and other visual settings as needed. Matplotlib provides extensive documentation for further customization options.\n",
    "\n",
    "Please go ahead and use the above code to display the image, and experiment with different channels and visualization settings as needed. Visualizing the image can help you gain insights into the data and better understand the characteristics of the image.\n",
    "\n",
    "Note: Make sure to run the `plt.show()` function to display the plot in the notebook."
   ]
  },
  {
   "cell_type": "code",
   "execution_count": null,
   "id": "a8567a0d",
   "metadata": {},
   "outputs": [],
   "source": [
    "# Your answer #"
   ]
  },
  {
   "cell_type": "markdown",
   "id": "7176a1e0",
   "metadata": {},
   "source": [
    "### Image Slicing and Cropping\n",
    "\n",
    "Now that we have loaded the image, let's explore how to extract and manipulate regions of interest (ROI) from the image using image slicing and cropping.\n",
    "\n",
    "Image Slicing:\n",
    "\n",
    "Image slicing allows you to extract specific portions of the image by indexing the image data. You can use square brackets with colon (':') notation to specify the range of indices for each dimension. For example:\n",
    "\n",
    "```python\n",
    "# Extract a slice from the image\n",
    "image_slice = img[channel][start_row:end_row, start_col:end_col]\n",
    "```\n",
    "Try experimenting with different values for start_row, end_row, start_col, and end_col to extract and crop different regions of the image. You can also visualize the extracted or cropped regions using Matplotlib to visually inspect the results.\n",
    "\n",
    "Please go ahead and try slicing and cropping the image using the provided instructions, and feel free to ask any questions or seek clarification if needed.\n"
   ]
  },
  {
   "cell_type": "code",
   "execution_count": null,
   "id": "14f3bf05",
   "metadata": {},
   "outputs": [],
   "source": [
    "# Your answer #"
   ]
  }
 ],
 "metadata": {
  "kernelspec": {
   "display_name": "Python 3 (ipykernel)",
   "language": "python",
   "name": "python3"
  },
  "language_info": {
   "codemirror_mode": {
    "name": "ipython",
    "version": 3
   },
   "file_extension": ".py",
   "mimetype": "text/x-python",
   "name": "python",
   "nbconvert_exporter": "python",
   "pygments_lexer": "ipython3",
   "version": "3.8.15"
  }
 },
 "nbformat": 4,
 "nbformat_minor": 5
}
