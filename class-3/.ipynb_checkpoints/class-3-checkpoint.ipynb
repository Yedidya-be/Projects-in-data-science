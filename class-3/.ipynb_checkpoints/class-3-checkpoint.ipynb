{
 "cells": [
  {
   "cell_type": "markdown",
   "id": "523b6996-cc30-4d73-a07e-f9f365d20245",
   "metadata": {},
   "source": [
    "# Introduction: Detecting Dividing Cells\n",
    "\n",
    "Welcome to Class 3 of the \"Projects in Data Science\" course! In our previous session, we explored the world of labeling and annotating cells using Napari. Today, we will take a deep dive into cell detection and focus on building a function that can identify cells undergoing division.\n",
    "\n",
    "In this Jupyter notebook, we will leverage the knowledge and skills acquired in the previous class to develop an algorithm that detects dividing cells within images. We will utilize the Napari library's functionalities to load and visualize cell images, annotate dividing cells, and build a custom function for automatic detection.\n",
    "\n",
    "Throughout the notebook, we will cover the following key steps:\n",
    "\n",
    "1. Leveraging Napari to visualize the cell images and perform manual annotations of dividing cells.\n",
    "\n",
    "\n",
    "2. Exploring techniques for feature extraction and identifying distinguishing characteristics of dividing cells.\n",
    "\n",
    "\n",
    "3. Implementing a detection algorithm based on the extracted features.\n",
    "\n",
    "\n",
    "4. Evaluating the performance of our detection function and fine-tuning it if necessary.\n",
    "\n",
    "\n",
    "By the end of this notebook, you will have gained practical experience in using Napari for cell annotation and built a functional algorithm capable of detecting dividing cells. \n",
    "\n",
    "\n",
    "Let's get started and unlock the secrets hidden within cell division!"
   ]
  },
  {
   "cell_type": "markdown",
   "id": "26077da7-09c7-4096-a71f-359b1200234a",
   "metadata": {},
   "source": [
    "## Setting up the Environment\n",
    "To begin our exploration of cell division detection, we will first set up the environment and import the necessary libraries. In this notebook, we will be utilizing **Jupyter Lab**, a powerful interactive development environment for data science projects. Jupyter Lab provides a user-friendly interface with various features that enhance code readability and streamline the development process.\n",
    "\n",
    "### Installing Jupyter Lab\n",
    "If you haven't installed Jupyter Lab already, you can do so by running the following command in your terminal or command prompt:\n",
    "\n",
    "\n",
    "`pip install jupyterlab`\n",
    "\n",
    "### Importing Required Libraries\n",
    "Let's start by importing the libraries we will be using throughout this notebook:\n",
    "```python\n",
    "import napari\n",
    "import numpy as np\n",
    "import matplotlib.pyplot as plt\n",
    "from skimage import io\n",
    "import utils\n",
    "```\n",
    "\n",
    "### Reloading Changes with %reload_ext autoreload\n",
    "During the development process, it is common to make changes to the utils.py file and re-run the notebook. To ensure that the updated code is imported correctly, we will use the `%reload_ext` autoreload magic command. This command automatically reloads any changes made to imported modules."
   ]
  },
  {
   "cell_type": "markdown",
   "id": "36694cfe-7891-4069-8850-d0055b99502f",
   "metadata": {},
   "source": [
    "### Downloading the Data\n",
    "To perform image analysis in this notebook, we will need to download some data from a provided link. Please follow the instructions below:\n",
    "\n",
    "1. Open the link: https://weizmann.box.com/s/m7gs1cidmlloei6905hdsqqgin2uuxjp in your web browser.\n",
    "\n",
    "2. Click on the \"Download\" button to download the data file to your local machine.\n",
    "\n",
    "3. Once the download is complete, locate the downloaded file on your machine. It may be in your \"Downloads\" folder or the default download location of your web browser.\n",
    "\n",
    "4. Create a folder named \"data\" in the same directory where your Jupyter Notebook is located. You can do this using the file explorer or by running the following command in a code cell in your Jupyter Notebook:\n",
    "\n",
    "```python\n",
    "import os\n",
    "\n",
    "# Create a directory named \"data\" if it doesn't exist\n",
    "if not os.path.exists(\"data\"):\n",
    "    os.makedirs(\"data\")\n",
    "```\n",
    "\n",
    "5. Move the downloaded data file into the \"data\" folder that you just created."
   ]
  },
  {
   "cell_type": "code",
   "execution_count": 1,
   "id": "cc263490-8e0c-4dfb-9359-3436dacb2f22",
   "metadata": {},
   "outputs": [],
   "source": [
    "import napari\n",
    "import numpy as np\n",
    "import matplotlib.pyplot as plt\n",
    "import skimage\n",
    "import os\n",
    "from utils import CellAnnotation\n",
    "\n",
    "# Reloading Changes with %reload_ext autoreload\n",
    "%reload_ext autoreload\n",
    "%autoreload 2"
   ]
  },
  {
   "cell_type": "markdown",
   "id": "cc875eb4-8bd9-4b7c-9572-148beab188bc",
   "metadata": {},
   "source": [
    "### Cell Annotation and Division Detection\n",
    "In the previous class, we learned how to use Napari for cell annotation and performed manual annotations on a single image. Now, let's take the next step and extend our annotation process to multiple images. We will create a loop that allows us to upload images one by one, open them in Napari, and annotate cells that are in division.\n",
    "\n",
    "Additionally, we will generate a dataframe that captures relevant information for each annotated cell, including the image name, cell ID, and a flag indicating whether the cell is dividing or not."
   ]
  },
  {
   "cell_type": "markdown",
   "id": "68310a37-6bf3-488e-b848-c1df78eb7b2b",
   "metadata": {},
   "source": [
    "### Cell Annotation Class\n",
    "now, we will create a class called CellAnnotation in the utils.py file. This class will serve as a utility for cell annotation and division detection. It will have methods to upload the segmentation data, annotate cells, and capture pairs of cells that are dividing.\n",
    "\n",
    "In the annotate method of the `CellAnnotation` class, you will need to open the image in Napari and create two new layers: one for cells that are dividing and another one for cells that are close but not dividing. This additional layer for non-dividing cells will be useful for evaluating the results later.\n",
    "\n",
    "Make sure to update the `utils.py` file with the following code:\n",
    "\n",
    "1. **upload_seg(segmentation_path):** This method will take a segmentation path as input and handle the logic for uploading the segmentation data. You will need to implement the logic to read and process the segmentation data in this method.\n",
    "\n",
    "2. **annotate():** This method will open the image in Napari and create a new layer for cell annotation. Inside this method, you will use the Napari library to display the image and allow the user to annotate the cells.\n",
    "\n",
    "3. **cells_in_division:** This attribute will store a list of pairs of cells that are dividing. You will update this attribute while annotating the cells in the annotate() method.\n",
    "\n",
    "Your task is to complete the implementation of the upload_seg and annotate methods in the utils.py file. In the upload_seg method, you need to handle the logic for uploading the segmentation data. In the annotate method, you need to open the image in Napari and create two new layers for cell annotation. Additionally, while annotating the cells, update the cells_in_division attribute with the pairs of cells that are dividing.\n",
    "\n",
    "Once you have completed the implementation of the CellAnnotation class, you can proceed to use it in the Jupyter Notebook to upload the segmentation, annotate the cells, and capture the pairs of dividing cells."
   ]
  },
  {
   "cell_type": "code",
   "execution_count": 2,
   "id": "8b4c925a-8f58-42fc-918b-6346742a4287",
   "metadata": {
    "tags": []
   },
   "outputs": [],
   "source": [
    "img_1_path = r'../data/fov_1_hyb_0.nd2'\n",
    "seg_path = r'../data/fov_1_hyb_0.seg.npy'\n",
    "\n",
    "img_1_annot = CellAnnotation(img_1_path)\n",
    "img_1_annot.upload_seg(seg_path)\n",
    "img_1_annot.annotate()\n",
    "img_1_annot.cells_in_division"
   ]
  },
  {
   "cell_type": "markdown",
   "id": "8650d67a-e1e3-4e41-9be4-0514839bb86d",
   "metadata": {},
   "source": [
    "### Annotating Multiple Images and Building the DataFrame\n",
    "Now that we have the CellAnnotation class implemented, let's use it to loop over all the files in a directory, annotate each image, and store the annotation information in a dataframe. The dataframe will have four columns: \"image_name\", \"pair1\", \"pair2\", and \"is_dividing\". The \"pair1\" and \"pair2\" columns will represent the pairs of cells, and the \"is_dividing\" column will indicate whether the cells are dividing or not.\n",
    "\n",
    "**Looping over Image Files and Annotation**\n",
    "```python\n",
    "# Create an empty dataframe to store the annotation information.\n",
    "annotation_df = pd.DataFrame(columns=['image_name', 'pair1', 'pair2', 'is_dividing'])\n",
    "\n",
    "# Loop over all the files in the directory, annotate each image, and update the dataframe.\n",
    "for filename in os.listdir(image_directory):\n",
    "    if filename.endswith('.png') or filename.endswith('.jpg'):\n",
    "        # Get the full path to the image file\n",
    "        image_path = os.path.join(image_directory, filename)\n",
    "\n",
    "        # Create an instance of the CellAnnotation class for the current image\n",
    "        annotation = CellAnnotation(image_path)\n",
    "\n",
    "        # Annotate the cells in the image\n",
    "        viewer = annotation.annotate()\n",
    "\n",
    "        # Retrieve the pairs of dividing cells from the CellAnnotation instance\n",
    "        pairs_dividing = annotation.cells_in_division\n",
    "        pairs_not_dividing = annotation.cells_not_in_division\n",
    "\n",
    "\n",
    "        # Add the annotation information to the dataframe\n",
    "        for pair in pairs_dividing:\n",
    "            annotation_df = annotation_df.append({\n",
    "                'image_name': filename,\n",
    "                'pair1': pair[0],\n",
    "                'pair2': pair[1],\n",
    "                'is_dividing': True\n",
    "            }, ignore_index=True)\n",
    "\n",
    "        # Close the Napari viewer\n",
    "        viewer.close()\n",
    "```\n",
    "\n",
    "At the end of the loop, you will have populated the `annotation_df` dataframe with the annotation information for all the images.\n",
    "\n",
    "**Make sure that you save your annotation file aftet annotating!**\n",
    "\n",
    "Feel free to modify the code according to your specific requirements or if you have additional steps to perform during the annotation process."
   ]
  },
  {
   "cell_type": "markdown",
   "id": "b3dfddf1-00b8-4749-85f0-06644de670db",
   "metadata": {},
   "source": [
    "### Calculating Fold Change of Regionprops Features\n",
    "In the previous class, we learned how to calculate `regionprops`. Now, let's further analyze the regionprops data by calculating the fold change of each feature for the pairs of cells in the `annotation_df`.\n",
    "\n",
    "To calculate the fold change of each feature, follow these steps:\n",
    "\n",
    "1. Iterate over each pair in the annotation_df dataframe.\n",
    "\n",
    "2. Retrieve the regionprops data for the corresponding image using the image name as the identifier.\n",
    "\n",
    "3. Extract the regionprops data for the two cells in the pair using their respective cell IDs.\n",
    "\n",
    "4. Calculate the fold change for each feature by dividing the value of the feature for the second cell by the value of the feature for the first cell.\n",
    "\n",
    "5. Append the fold change values to the annotation_df dataframe.\n",
    "\n",
    "This information can provide insights into the changes and differences between the dividing and non-dividing cells based on the calculated region properties."
   ]
  },
  {
   "cell_type": "code",
   "execution_count": 3,
   "id": "6e824d1c-4bb4-417d-95b5-0e04d381ff6f",
   "metadata": {
    "tags": []
   },
   "outputs": [],
   "source": [
    "#Iterate over each pair in the annotation_df dataframe.\n",
    "\n",
    "###############\n",
    "# Your Answer #\n",
    "###############\n",
    "\n",
    "#Retrieve the regionprops data for the corresponding image using the image name as the identifier.\n",
    "\n",
    "###############\n",
    "# Your Answer #\n",
    "###############\n",
    "\n",
    "#Extract the regionprops data for the two cells in the pair using their respective cell IDs.\n",
    "\n",
    "###############\n",
    "# Your Answer #\n",
    "###############\n",
    "\n",
    "#Calculate the fold change for each feature by dividing the value of the feature for the second cell by the value of the feature for the first cell.\n",
    "\n",
    "###############\n",
    "# Your Answer #\n",
    "###############\n",
    "\n",
    "#Append the fold change values to the annotation_df dataframe.\n",
    "\n",
    "###############\n",
    "# Your Answer #\n",
    "###############\n"
   ]
  },
  {
   "cell_type": "markdown",
   "id": "7f908f6f-0823-4f98-83c5-e38d02cffc4e",
   "metadata": {},
   "source": [
    "### Exploring Features for Separating Dividing and Non-Dividing Cells\n",
    "Now that we have calculated the fold change of regionprops features for the pairs of cells in the annotation_df, let's explore the features further to see if any of them can effectively separate dividing and non-dividing cells. We will plot the distributions of these features for both types of cells on the same plot to facilitate visual comparison.\n",
    "\n",
    "To explore the features, follow these steps:\n",
    "\n",
    "1. Choose a subset of features from the calculated regionprops data that you would like to investigate for their potential to separate dividing and non-dividing cells. Let's select six features for demonstration purposes.\n",
    "\n",
    "2. Filter the annotation_df to include only the rows corresponding to dividing cells (is_dividing=True) and non-dividing cells (is_dividing=False).\n",
    "\n",
    "3. For each selected feature, extract the values for dividing cells and non-dividing cells separately.\n",
    "\n",
    "4. Plot the distributions of each feature for dividing and non-dividing cells on the same plot using appropriate visualization techniques such as overlapping histograms or kernel density plots.\n",
    "\n",
    "5. Analyze the distributions and observe if any patterns emerge. Look for features that demonstrate clear separation or significant differences in the distributions between dividing and non-dividing cells.\n",
    "\n",
    "By plotting the distributions of these selected features on the same plot, you can directly compare the distributions between dividing and non-dividing cells. Look for features that display distinct or overlapping distributions between the two cell types, as these may provide valuable insights for differentiation."
   ]
  },
  {
   "cell_type": "code",
   "execution_count": 4,
   "id": "f1da8ccc-74b8-4f75-b756-56a9101212f1",
   "metadata": {
    "tags": []
   },
   "outputs": [],
   "source": [
    "# Choose a 6 features from the calculated regionprops data that you would like to investigate for their potential to separate dividing and non-dividing cells.\n",
    "\n",
    "###############\n",
    "# Your Answer #\n",
    "###############\n",
    "\n",
    "# Filter the annotation_df to include only the rows corresponding to dividing cells and non-dividing cells.\n",
    "\n",
    "###############\n",
    "# Your Answer #\n",
    "###############\n",
    "\n",
    "# For each selected feature, extract the values for dividing cells and non-dividing cells separately.\n",
    "\n",
    "###############\n",
    "# Your Answer #\n",
    "###############\n",
    "\n",
    "# Plot the distributions of each feature for dividing and non-dividing cells on the same plot using appropriate visualization techniques.\n",
    "\n",
    "###############\n",
    "# Your Answer #\n",
    "###############"
   ]
  },
  {
   "cell_type": "markdown",
   "id": "59cc9b52-bf9d-473d-bb55-bd675d3d3501",
   "metadata": {},
   "source": [
    "In addition to plotting the distributions of selected features, another approach to explore the potential separation between dividing and non-dividing cells is to use scatter plots. Scatter plots allow us to visualize the relationship between two features and observe if there is a clear separation between the two cell types.\n",
    "\n",
    "To explore the features using scatter plots, follow these steps:\n",
    "\n",
    "1. Choose two features that you would like to investigate for their potential to separate dividing and non-dividing cells.\n",
    "\n",
    "2. Filter the `annotation_df` to include only the rows corresponding to dividing cells (is_dividing=True) and non-dividing cells (is_dividing=False).\n",
    "\n",
    "3. Create a scatter plot with the selected features on the x-axis and y-axis, respectively. Use different colors or markers to distinguish between dividing and non-dividing cells.\n",
    "\n",
    "4. Analyze the scatter plot and observe if there is a clear separation or clustering of the two cell types based on the selected features.\n",
    "\n",
    "**Look for patterns such as distinct groups, clusters, or clear boundaries that differentiate the two cell types based on the selected features.**\n",
    "\n",
    "Keep in mind that the effectiveness of separation may vary depending on the chosen features and the characteristics of your dataset. **Experimenting with different combinations of features can provide valuable insights into the discriminatory power of the selected features.**"
   ]
  },
  {
   "cell_type": "code",
   "execution_count": 5,
   "id": "58f031b9-399a-4d0c-87a6-af83a5eef55c",
   "metadata": {
    "tags": []
   },
   "outputs": [],
   "source": [
    "# Choose two features that you would like to investigate for their potential to separate dividing and non-dividing cells.\n",
    "\n",
    "###############\n",
    "# Your Answer #\n",
    "###############\n",
    "\n",
    "# Filter the annotation_df to include only the rows corresponding to dividing cells and non-dividing cells.\n",
    "\n",
    "###############\n",
    "# Your Answer #\n",
    "###############\n",
    "\n",
    "# Create a scatter plot with the selected features on the x-axis and y-axis, respectively.\n",
    "\n",
    "###############\n",
    "# Your Answer #\n",
    "###############\n",
    "\n",
    "# Analyze the scatter plot and observe if there is a clear separation or clustering of the two cell types based on the selected features.\n",
    "\n",
    "###############\n",
    "# Your Answer #\n",
    "###############\n"
   ]
  },
  {
   "cell_type": "markdown",
   "id": "33c0e1b9-0cff-45e6-8e59-6d0b82596513",
   "metadata": {},
   "source": [
    "### Exploring Additional Features and Feature Engineering\n",
    "While `regionprops` provide valuable features for analyzing cell properties, there may be other features outside of regionprops that can be useful in distinguishing dividing and non-dividing cells. Feature engineering involves creating new features or combining existing ones to capture different aspects of the data and improve classification or separation.\n",
    "\n",
    "To explore additional features and feature engineering techniques, consider the following steps:\n",
    "\n",
    "1. Think about cell characteristics that may be relevant to cell division but are not captured by the regionprops features. These could include features related to cell shape, texture, intensity, or spatial relationships.\n",
    "\n",
    "2. Explore different combinations or transformations of existing features that may reveal new patterns or relationships. For example, you could calculate ratios, differences, or sums of existing features to create new composite features.\n",
    "\n",
    "3. Consider incorporating domain knowledge or biological insights into the feature engineering process. This can help identify features that are known to be relevant to cell division or cellular processes.\n",
    "\n",
    "4. Experiment with different feature sets and evaluate their effectiveness in separating dividing and non-dividing cells using visualization techniques, statistical tests, or machine learning algorithms."
   ]
  },
  {
   "cell_type": "code",
   "execution_count": 6,
   "id": "58d1aeab-ff76-446a-ba85-b11d38d70170",
   "metadata": {
    "tags": []
   },
   "outputs": [],
   "source": [
    "###############\n",
    "# Your Answer #\n",
    "###############"
   ]
  },
  {
   "cell_type": "markdown",
   "id": "42117112-aef5-411c-8627-93250b443efa",
   "metadata": {},
   "source": [
    "### Building a Classification Function to Determine Cell Division\n",
    "Now that we have explored different features and potential feature engineering techniques, it's time to build a classification function that can determine whether two cells are dividing or not. Based on your knowledge of the features and insights gained from the analysis, you can use various approaches to classify the cells.\n",
    "\n",
    "Here are a few suggested methods you can consider:\n",
    "\n",
    "1. **Threshold-based approach:** Define thresholds for one or more features that can effectively separate dividing and non-dividing cells. For example, you can set a threshold on the aspect ratio and classify cells with aspect ratios above the threshold as dividing cells. Similarly, you can set thresholds on other relevant features based on your domain knowledge.\n",
    "\n",
    "2. **Statistical methods:** Utilize statistical methods such as clustering or Gaussian mixture models to identify distinct groups or clusters of cells. Assign cells to the dividing or non-dividing group based on their cluster membership.\n",
    "\n",
    "3. **Machine learning algorithms:** Train a classification model using machine learning algorithms such as logistic regression, decision trees, random forests, or support vector machines. Use a labeled dataset with features and corresponding labels (dividing or non-dividing) to train the model, and then use it to predict the labels for new unseen data.\n",
    "\n",
    "To build your classification function, consider the following steps:\n",
    "\n",
    "1. Determine the features or combination of features that you believe are most indicative of cell division based on your analysis.\n",
    "\n",
    "2. Choose an appropriate classification method based on your problem and available resources (e.g., threshold-based, statistical, or machine learning).\n",
    "\n",
    "3. Implement the classification function using the chosen method. If using machine learning algorithms, you can leverage libraries such as scikit-learn to facilitate the model training and prediction process.\n",
    "\n",
    "4. Evaluate the accuracy of your classification function using appropriate evaluation metrics such as accuracy, precision, recall, or F1-score. Split your labeled dataset into training and test sets to assess the performance of the model on unseen data.\n",
    "\n"
   ]
  },
  {
   "cell_type": "code",
   "execution_count": 7,
   "id": "ed2cc95e-459c-4b32-9921-44b02314faf2",
   "metadata": {},
   "outputs": [],
   "source": [
    "###############\n",
    "# Your Answer #\n",
    "###############"
   ]
  },
  {
   "cell_type": "code",
   "execution_count": null,
   "id": "e8d73c60-3886-42a3-9719-743dc3c44d30",
   "metadata": {},
   "outputs": [],
   "source": []
  }
 ],
 "metadata": {
  "kernelspec": {
   "display_name": "Python 3 (ipykernel)",
   "language": "python",
   "name": "python3"
  },
  "language_info": {
   "codemirror_mode": {
    "name": "ipython",
    "version": 3
   },
   "file_extension": ".py",
   "mimetype": "text/x-python",
   "name": "python",
   "nbconvert_exporter": "python",
   "pygments_lexer": "ipython3",
   "version": "3.8.15"
  }
 },
 "nbformat": 4,
 "nbformat_minor": 5
}
